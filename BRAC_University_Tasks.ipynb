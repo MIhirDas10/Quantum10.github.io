{
  "nbformat": 4,
  "nbformat_minor": 0,
  "metadata": {
    "colab": {
      "provenance": [],
      "authorship_tag": "ABX9TyP6z1E0/e5aO8+41bvq5RTv",
      "include_colab_link": true
    },
    "kernelspec": {
      "name": "python3",
      "display_name": "Python 3"
    },
    "language_info": {
      "name": "python"
    }
  },
  "cells": [
    {
      "cell_type": "markdown",
      "metadata": {
        "id": "view-in-github",
        "colab_type": "text"
      },
      "source": [
        "<a href=\"https://colab.research.google.com/github/MIhirDas10/Quantum10.github.io/blob/master/BRAC_University_Tasks.ipynb\" target=\"_parent\"><img src=\"https://colab.research.google.com/assets/colab-badge.svg\" alt=\"Open In Colab\"/></a>"
      ]
    },
    {
      "cell_type": "markdown",
      "source": [
        " **Task-1**"
      ],
      "metadata": {
        "id": "qeyFwqxcQiRO"
      }
    },
    {
      "cell_type": "code",
      "source": [
        "print('hello world')"
      ],
      "metadata": {
        "colab": {
          "base_uri": "https://localhost:8080/"
        },
        "id": "GHmHhRUOQ1gP",
        "outputId": "fb74ae07-ee81-4540-f191-e490895804fc"
      },
      "execution_count": null,
      "outputs": [
        {
          "output_type": "stream",
          "name": "stdout",
          "text": [
            "hello world\n"
          ]
        }
      ]
    },
    {
      "cell_type": "markdown",
      "source": [
        "**Task-2**"
      ],
      "metadata": {
        "id": "fPIx_apJRQxE"
      }
    },
    {
      "cell_type": "code",
      "source": [
        "print(54+56)"
      ],
      "metadata": {
        "colab": {
          "base_uri": "https://localhost:8080/"
        },
        "id": "ST-ehVWIRWnu",
        "outputId": "51bc4fdb-46a3-48b5-fd84-c48a2bf40059"
      },
      "execution_count": null,
      "outputs": [
        {
          "output_type": "stream",
          "name": "stdout",
          "text": [
            "110\n"
          ]
        }
      ]
    },
    {
      "cell_type": "markdown",
      "source": [
        "**Task-3**"
      ],
      "metadata": {
        "id": "lAGc1xogRqjP"
      }
    },
    {
      "cell_type": "code",
      "source": [
        "season='Fall'\n",
        "Year=2022\n",
        "print(season)\n",
        "print(Year)"
      ],
      "metadata": {
        "colab": {
          "base_uri": "https://localhost:8080/"
        },
        "id": "UoMM4X7bRtI_",
        "outputId": "f87a36b0-4b45-4bf5-a863-35c70c542c34"
      },
      "execution_count": null,
      "outputs": [
        {
          "output_type": "stream",
          "name": "stdout",
          "text": [
            "Fall\n",
            "2022\n"
          ]
        }
      ]
    },
    {
      "cell_type": "markdown",
      "source": [
        "**Task-4**"
      ],
      "metadata": {
        "id": "72_3zyWsR88H"
      }
    },
    {
      "cell_type": "code",
      "source": [
        "var1=input('Enter Name: ')\n",
        "var2=input('Enter Name: ')\n",
        "print('Your name is',var1)\n",
        "print('Your name is',var2)"
      ],
      "metadata": {
        "colab": {
          "base_uri": "https://localhost:8080/"
        },
        "id": "dG8dNJK-SCn6",
        "outputId": "51b523e5-39c3-4f20-da3d-2f0a3d2a192e"
      },
      "execution_count": null,
      "outputs": [
        {
          "output_type": "stream",
          "name": "stdout",
          "text": [
            "Enter Name: John\n",
            "Enter Name: Albert\n",
            "Your name is John\n",
            "Your name is Albert\n"
          ]
        }
      ]
    },
    {
      "cell_type": "markdown",
      "source": [
        "**Task-5**"
      ],
      "metadata": {
        "id": "55AoM1KXa8Z-"
      }
    },
    {
      "cell_type": "code",
      "source": [
        "num1=input()\n",
        "num2=input()\n",
        "num3=int(num1)**int(num2)\n",
        "print(num1+'^'+num2+':',num3)"
      ],
      "metadata": {
        "colab": {
          "base_uri": "https://localhost:8080/"
        },
        "id": "Ocsz1yf9bBqS",
        "outputId": "3cadfea7-3440-4b66-da86-2e44d4ced9ec"
      },
      "execution_count": null,
      "outputs": [
        {
          "output_type": "stream",
          "name": "stdout",
          "text": [
            "10\n",
            "3\n",
            "10^3: 1000\n"
          ]
        }
      ]
    },
    {
      "cell_type": "markdown",
      "source": [
        "**Task-6**"
      ],
      "metadata": {
        "id": "Nw4hZ3kgd7MD"
      }
    },
    {
      "cell_type": "code",
      "source": [
        "num1=input()\n",
        "num2=4\n",
        "print(int(num1)//int(num2)*4)"
      ],
      "metadata": {
        "id": "Dmop0cjmd_-u",
        "colab": {
          "base_uri": "https://localhost:8080/"
        },
        "outputId": "e42f0ae3-e03f-41f2-856e-4e54fff29641"
      },
      "execution_count": null,
      "outputs": [
        {
          "output_type": "stream",
          "name": "stdout",
          "text": [
            "9\n",
            "8\n"
          ]
        }
      ]
    },
    {
      "cell_type": "markdown",
      "source": [
        "**Task-7**"
      ],
      "metadata": {
        "id": "w4mlGVXnACjI"
      }
    },
    {
      "cell_type": "code",
      "source": [
        "A=int(input())\n",
        "B=int(input())\n",
        "C=int(input())\n",
        "D=float(input())\n",
        "var=A**C+B*A-D/3\n",
        "print(int(var))"
      ],
      "metadata": {
        "colab": {
          "base_uri": "https://localhost:8080/"
        },
        "id": "_GssFoCMAGs_",
        "outputId": "587ac120-b38f-410e-d83c-21355e3e0821"
      },
      "execution_count": null,
      "outputs": [
        {
          "output_type": "stream",
          "name": "stdout",
          "text": [
            "9\n",
            "100\n",
            "1\n",
            "3.7\n",
            "907\n"
          ]
        }
      ]
    },
    {
      "cell_type": "markdown",
      "source": [
        "**Task-8**"
      ],
      "metadata": {
        "id": "dmMaFrc_BJXR"
      }
    },
    {
      "cell_type": "code",
      "source": [
        "num1=input('Number of chocolates: ')\n",
        "num2=3\n",
        "var1=(int(num1)//int(num2))\n",
        "print('Each friend will receive',var1,'chocolates')\n",
        "var2=(int(num1)%int(num2))\n",
        "print('The number of remaining chocolate is', var2)"
      ],
      "metadata": {
        "colab": {
          "base_uri": "https://localhost:8080/"
        },
        "id": "yzmj-JIsBNFK",
        "outputId": "42d43ec2-122c-4305-ea70-e9bc7c984d5e"
      },
      "execution_count": null,
      "outputs": [
        {
          "output_type": "stream",
          "name": "stdout",
          "text": [
            "Number of chocolates: 50\n",
            "Each friend will receive 16 chocolates\n",
            "The number of remaining chocolate is 2\n"
          ]
        }
      ]
    },
    {
      "cell_type": "markdown",
      "source": [
        "**Task-9**"
      ],
      "metadata": {
        "id": "HrrDrw3nH4Bg"
      }
    },
    {
      "cell_type": "code",
      "source": [
        "num1=input()\n",
        "num2=input()\n",
        "print(num2+num1)"
      ],
      "metadata": {
        "colab": {
          "base_uri": "https://localhost:8080/"
        },
        "id": "IEIFwngGH7fL",
        "outputId": "85076d36-d475-4ba1-f90e-a7db826e89b4"
      },
      "execution_count": null,
      "outputs": [
        {
          "output_type": "stream",
          "name": "stdout",
          "text": [
            "Hello \n",
            "World\n",
            "WorldHello \n"
          ]
        }
      ]
    },
    {
      "cell_type": "markdown",
      "source": [
        "**Task-10**"
      ],
      "metadata": {
        "id": "o5_5ngxjJGi1"
      }
    },
    {
      "cell_type": "code",
      "source": [
        "var='The quick brown fox jumps over the lazy dog'\n",
        "print(var[0])"
      ],
      "metadata": {
        "colab": {
          "base_uri": "https://localhost:8080/"
        },
        "id": "YtEU-CahJJYj",
        "outputId": "b82e0de8-8f91-4afc-b407-02947c5b9f67"
      },
      "execution_count": null,
      "outputs": [
        {
          "output_type": "stream",
          "name": "stdout",
          "text": [
            "T\n"
          ]
        }
      ]
    },
    {
      "cell_type": "markdown",
      "source": [
        "**Task-11**"
      ],
      "metadata": {
        "id": "-KXEsTP8NsBt"
      }
    },
    {
      "cell_type": "code",
      "source": [
        "var=int(input('Number: '))\n",
        "if var%2==0:\n",
        "  print('The number is even')\n",
        "else:\n",
        "  print('The number is odd')"
      ],
      "metadata": {
        "colab": {
          "base_uri": "https://localhost:8080/"
        },
        "id": "xPBXb7DnNuf6",
        "outputId": "291b83a8-f442-4f05-b273-023ff12f71ed"
      },
      "execution_count": null,
      "outputs": [
        {
          "output_type": "stream",
          "name": "stdout",
          "text": [
            "Number: 5\n",
            "The number is odd\n"
          ]
        }
      ]
    },
    {
      "cell_type": "code",
      "source": [
        "print(9==9.0)"
      ],
      "metadata": {
        "colab": {
          "base_uri": "https://localhost:8080/"
        },
        "id": "bjYvygxB2d4y",
        "outputId": "bd6e31b8-df60-4a6f-de69-723dc5bdc410"
      },
      "execution_count": null,
      "outputs": [
        {
          "output_type": "stream",
          "name": "stdout",
          "text": [
            "True\n"
          ]
        }
      ]
    },
    {
      "cell_type": "code",
      "source": [
        "var1=int(input())\n",
        "var2=int(input())\n",
        "var3=var1+var2\n",
        "if var3>15:\n",
        "  print('greater than 15')\n",
        "else:\n",
        "  print('less than 15')"
      ],
      "metadata": {
        "colab": {
          "base_uri": "https://localhost:8080/"
        },
        "id": "0t9sv15Q8OcC",
        "outputId": "e1f9fe6d-5e56-43d8-823b-09e595508f43"
      },
      "execution_count": null,
      "outputs": [
        {
          "output_type": "stream",
          "name": "stdout",
          "text": [
            "8\n",
            "8\n",
            "greater than 15\n"
          ]
        }
      ]
    }
  ]
}